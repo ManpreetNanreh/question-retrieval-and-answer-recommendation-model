{
  "nbformat": 4,
  "nbformat_minor": 0,
  "metadata": {
    "colab": {
      "name": "nlp-final-project.ipynb",
      "provenance": [],
      "collapsed_sections": []
    },
    "kernelspec": {
      "name": "python3",
      "display_name": "Python 3"
    }
  },
  "cells": [
    {
      "cell_type": "code",
      "metadata": {
        "id": "CLBETSJ61A3p",
        "colab_type": "code",
        "outputId": "83a8ff2a-71d4-4f85-e03b-e0f46411a19e",
        "colab": {
          "base_uri": "https://localhost:8080/",
          "height": 124
        }
      },
      "source": [
        "from google.colab import drive\n",
        "drive.mount('/content/drive')"
      ],
      "execution_count": 0,
      "outputs": [
        {
          "output_type": "stream",
          "text": [
            "Go to this URL in a browser: https://accounts.google.com/o/oauth2/auth?client_id=947318989803-6bn6qk8qdgf4n4g3pfee6491hc0brc4i.apps.googleusercontent.com&redirect_uri=urn%3aietf%3awg%3aoauth%3a2.0%3aoob&response_type=code&scope=email%20https%3a%2f%2fwww.googleapis.com%2fauth%2fdocs.test%20https%3a%2f%2fwww.googleapis.com%2fauth%2fdrive%20https%3a%2f%2fwww.googleapis.com%2fauth%2fdrive.photos.readonly%20https%3a%2f%2fwww.googleapis.com%2fauth%2fpeopleapi.readonly\n",
            "\n",
            "Enter your authorization code:\n",
            "··········\n",
            "Mounted at /content/drive\n"
          ],
          "name": "stdout"
        }
      ]
    },
    {
      "cell_type": "code",
      "metadata": {
        "id": "KaTnm2i-1V39",
        "colab_type": "code",
        "colab": {}
      },
      "source": [
        "import pandas as pd\n",
        "import numpy as np\n",
        "import nltk\n",
        "#set this path to where nltk is located\n",
        "#if not downloaded, then comment this line out\n",
        "nltk.data.path.append(\"/content/drive/My Drive/Colab Notebooks/nltk\")\n",
        "import matplotlib.pyplot as plt\n",
        "import seaborn as sns\n",
        "import itertools\n",
        "import pickle\n",
        "\n",
        "from string import punctuation\n",
        "from time import time\n",
        "from ast import literal_eval\n",
        "from gensim.models import KeyedVectors, TfidfModel\n",
        "from sklearn.model_selection import train_test_split\n",
        "from sklearn.svm import LinearSVC\n",
        "from sklearn.metrics import confusion_matrix, classification_report\n",
        "from gensim.corpora import Dictionary\n",
        "\n",
        "from tensorflow.python.keras.preprocessing.sequence import pad_sequences\n",
        "from tensorflow.python.keras.preprocessing.text import Tokenizer\n",
        "from tensorflow.python.keras.models import Model, Sequential, load_model\n",
        "from tensorflow.python.keras.layers import Input, Embedding, LSTM, Lambda\n",
        "from tensorflow.python.keras import backend as K\n",
        "from tensorflow.python.keras.optimizers import Adam"
      ],
      "execution_count": 0,
      "outputs": []
    },
    {
      "cell_type": "markdown",
      "metadata": {
        "id": "Z8xoN0yokUlP",
        "colab_type": "text"
      },
      "source": [
        "#Prepare the model for question similarity."
      ]
    },
    {
      "cell_type": "markdown",
      "metadata": {
        "id": "z4mMDyie2BP4",
        "colab_type": "text"
      },
      "source": [
        "Import train and test dataset.\n",
        "Set the path to where train and test dataset are located.\n",
        "This dataset is retrieved from https://www.kaggle.com/c/quora-question-pairs/data.\n",
        "Only the train dataset is used for this project as it lets us perform evaluation later on."
      ]
    },
    {
      "cell_type": "code",
      "metadata": {
        "id": "oUUAjM3S18oG",
        "colab_type": "code",
        "colab": {}
      },
      "source": [
        "path = '/content/drive/My Drive/Colab Notebooks/nlp-final-project/data_files/'\n",
        "\n",
        "data = pd.read_csv(path + 'train.csv')"
      ],
      "execution_count": 0,
      "outputs": []
    },
    {
      "cell_type": "code",
      "metadata": {
        "id": "wm5FN7ht2ECM",
        "colab_type": "code",
        "colab": {}
      },
      "source": [
        "print('Count null or nan values in train:')\n",
        "print(data.isnull().sum())"
      ],
      "execution_count": 0,
      "outputs": []
    },
    {
      "cell_type": "markdown",
      "metadata": {
        "id": "x3Ri5qLG2UoW",
        "colab_type": "text"
      },
      "source": [
        "Fill in null or nan values with empty string. This will help prevent crash in the code and will still allow us to compare question with another empty question."
      ]
    },
    {
      "cell_type": "code",
      "metadata": {
        "id": "NgaqjrcQ2VdU",
        "colab_type": "code",
        "colab": {}
      },
      "source": [
        "data['question1'] = data['question1'].fillna('')\n",
        "data['question2'] = data['question2'].fillna('')"
      ],
      "execution_count": 0,
      "outputs": []
    },
    {
      "cell_type": "markdown",
      "metadata": {
        "id": "8Fdgl4--2YqV",
        "colab_type": "text"
      },
      "source": [
        "Check for null or nan values for train and test dataset. It should be 0 now."
      ]
    },
    {
      "cell_type": "code",
      "metadata": {
        "id": "HuhUZ7Sw2XBk",
        "colab_type": "code",
        "colab": {}
      },
      "source": [
        "print('Count null or nan values in train:')\n",
        "print(data.isnull().sum())"
      ],
      "execution_count": 0,
      "outputs": []
    },
    {
      "cell_type": "markdown",
      "metadata": {
        "id": "su_UvCYN2h-2",
        "colab_type": "text"
      },
      "source": [
        "Tokenize and stem each question in train dataset. These couple of operations could take a long time to complete."
      ]
    },
    {
      "cell_type": "code",
      "metadata": {
        "id": "kJlVUHV22ger",
        "colab_type": "code",
        "colab": {}
      },
      "source": [
        "stop_words = nltk.corpus.stopwords.words(\"english\")\n",
        "porter_stemmer = nltk.stem.PorterStemmer()\n",
        "\n",
        "data['q1_tokenized'] = data['question1'].apply(lambda x: nltk.word_tokenize(x))\n",
        "data['q1_tokenized'] = data['q1_tokenized'].apply(lambda x: [word.strip().lower() for word in x])\n",
        "data['q1_tokenized'] = data['q1_tokenized'].apply(lambda x: [word for word in x if word not in stop_words])\n",
        "data['q1_tokenized'] = data['q1_tokenized'].apply(lambda x: [porter_stemmer.stem(word) for word in x])\n",
        "\n",
        "data['q2_tokenized'] = data['question2'].apply(lambda x: nltk.word_tokenize(x))\n",
        "data['q2_tokenized'] = data['q2_tokenized'].apply(lambda x: [word.strip().lower() for word in x])\n",
        "data['q2_tokenized'] = data['q2_tokenized'].apply(lambda x: [word for word in x if word not in stop_words])\n",
        "data['q2_tokenized'] = data['q2_tokenized'].apply(lambda x: [porter_stemmer.stem(word) for word in x])"
      ],
      "execution_count": 0,
      "outputs": []
    },
    {
      "cell_type": "markdown",
      "metadata": {
        "id": "wWp3fCubzL1h",
        "colab_type": "text"
      },
      "source": [
        "Do extra cleaning."
      ]
    },
    {
      "cell_type": "code",
      "metadata": {
        "id": "R1oLVsd7za3U",
        "colab_type": "code",
        "colab": {}
      },
      "source": [
        "#remove extra punctuation\n",
        "data['q1_tokenized'] = data['q1_tokenized'].apply(lambda sent: [token for token in sent if token not in punctuation + '‘' + '’'])\n",
        "data['q2_tokenized'] = data['q2_tokenized'].apply(lambda sent: [token for token in sent if token not in punctuation + '‘' + '’'])\n",
        "data['q1_tokenized'] = data['q1_tokenized'].apply(lambda sent: [token for token in sent if token not in [\"''\", '``', '\"\"']])\n",
        "data['q2_tokenized'] = data['q2_tokenized'].apply(lambda sent: [token for token in sent if token not in [\"''\", '``', '\"\"']])\n",
        "\n",
        "def splitWords(sent):\n",
        "  new_sent = []\n",
        "  for token in sent:\n",
        "    new_sent = new_sent + token.split('/')\n",
        "  return new_sent\n",
        "\n",
        "data['q1_tokenized'] = data['q1_tokenized'].apply(lambda sent: splitWords(sent))\n",
        "data['q2_tokenized'] = data['q2_tokenized'].apply(lambda sent: splitWords(sent))"
      ],
      "execution_count": 0,
      "outputs": []
    },
    {
      "cell_type": "markdown",
      "metadata": {
        "id": "KaYQSBsVzvSi",
        "colab_type": "text"
      },
      "source": [
        " Save the dataset for future uses. Set the path to where the files are to be saved."
      ]
    },
    {
      "cell_type": "code",
      "metadata": {
        "id": "WSrIJfP0zsp3",
        "colab_type": "code",
        "colab": {}
      },
      "source": [
        "data = data.drop(['qid1', 'qid2'], axis=1)\n",
        "\n",
        "path = '/content/drive/My Drive/Colab Notebooks/nlp-final-project/'\n",
        "\n",
        "data.to_csv(path + 'data_token.csv')"
      ],
      "execution_count": 0,
      "outputs": []
    },
    {
      "cell_type": "markdown",
      "metadata": {
        "id": "NbkRXpEXz2Sm",
        "colab_type": "text"
      },
      "source": [
        "Read the saved csv. Again, set the path to where files should be read from."
      ]
    },
    {
      "cell_type": "code",
      "metadata": {
        "id": "2VJQlgbtz2_a",
        "colab_type": "code",
        "colab": {}
      },
      "source": [
        "path = '/content/drive/My Drive/Colab Notebooks/nlp-final-project/'\n",
        "data = pd.read_csv(path + 'data_token.csv')\n",
        "\n",
        "#Drop unwanted columns.\n",
        "data = data.drop(['Unnamed: 0'], axis=1)\n",
        "\n",
        "data['q1_tokenized'] = data['q1_tokenized'].apply(literal_eval)\n",
        "data['q2_tokenized'] = data['q2_tokenized'].apply(literal_eval)"
      ],
      "execution_count": 0,
      "outputs": []
    },
    {
      "cell_type": "markdown",
      "metadata": {
        "id": "n2QUk3021WKd",
        "colab_type": "text"
      },
      "source": [
        "Load the Google trained word2vec model. Set the path to where word2vec model is located at."
      ]
    },
    {
      "cell_type": "code",
      "metadata": {
        "id": "NwuUlemnvLVj",
        "colab_type": "code",
        "outputId": "5f755457-2fda-43bc-de72-e18f7fdcb104",
        "colab": {
          "base_uri": "https://localhost:8080/",
          "height": 74
        }
      },
      "source": [
        "path = '/content/drive/My Drive/Colab Notebooks/nlp-final-project/GoogleNews-vectors-negative300.bin.gz'\n",
        "word2vec = KeyedVectors.load_word2vec_format(path, binary=True)"
      ],
      "execution_count": 0,
      "outputs": [
        {
          "output_type": "stream",
          "text": [
            "/usr/local/lib/python3.6/dist-packages/smart_open/smart_open_lib.py:402: UserWarning: This function is deprecated, use smart_open.open instead. See the migration notes for details: https://github.com/RaRe-Technologies/smart_open/blob/master/README.rst#migrating-to-the-new-open-function\n",
            "  'See the migration notes for details: %s' % _MIGRATION_NOTES_URL\n"
          ],
          "name": "stderr"
        }
      ]
    },
    {
      "cell_type": "markdown",
      "metadata": {
        "id": "fjKecHRr1uKT",
        "colab_type": "text"
      },
      "source": [
        "Create placeholder columns"
      ]
    },
    {
      "cell_type": "code",
      "metadata": {
        "id": "rdmqisdM1tQJ",
        "colab_type": "code",
        "colab": {}
      },
      "source": [
        "data['q1_tokenized_embed'] = data['q1_tokenized']\n",
        "data['q2_tokenized_embed'] = data['q2_tokenized']"
      ],
      "execution_count": 0,
      "outputs": []
    },
    {
      "cell_type": "markdown",
      "metadata": {
        "id": "VKh9V7yD10Pi",
        "colab_type": "text"
      },
      "source": [
        "Create tokenized vocabulary and embeddings of all the words for LSTM embedding. Also, create an embedding for each question."
      ]
    },
    {
      "cell_type": "code",
      "metadata": {
        "id": "pQlUMjIb2DCh",
        "colab_type": "code",
        "colab": {}
      },
      "source": [
        "vocabulary = {}\n",
        "vocabulary_cnt = 0\n",
        "inverse_vocab = {}\n",
        "inverse_vocab_cnt = 0\n",
        "\n",
        "for i, row in data.iterrows():\n",
        "  # Iterate through the text of both questions of each row\n",
        "  for question in ['q1_tokenized', 'q2_tokenized']:\n",
        "\n",
        "    # This array holds the question to number encode representation\n",
        "    q2n = []\n",
        "    for word in row[question]:\n",
        "      # Check for words not in word2vec vocab\n",
        "      if word not in word2vec.vocab:\n",
        "        if word not in inverse_vocab:\n",
        "          inverse_vocab_cnt += 1\n",
        "          inverse_vocab[word] = inverse_vocab_cnt\n",
        "\n",
        "      # If you have never seen a word, append it to vocab dictionary.\n",
        "      if word not in vocabulary:\n",
        "        vocabulary_cnt += 1\n",
        "        vocabulary[word] = vocabulary_cnt\n",
        "        q2n.append(vocabulary_cnt)\n",
        "      else:\n",
        "        q2n.append(vocabulary[word])\n",
        "\n",
        "    # Replace questions as word to question as number representation\n",
        "    data.at[i, question + '_embed'] = q2n"
      ],
      "execution_count": 0,
      "outputs": []
    },
    {
      "cell_type": "markdown",
      "metadata": {
        "id": "4ck2048B378Q",
        "colab_type": "text"
      },
      "source": [
        "Save the vocabulary for future uses and faster access. Set the path where you want to save the vocabulary."
      ]
    },
    {
      "cell_type": "code",
      "metadata": {
        "id": "u0yPw6jO3tKo",
        "colab_type": "code",
        "colab": {}
      },
      "source": [
        "path = '/content/drive/My Drive/Colab Notebooks/nlp-final-project/'\n",
        "with open(path + 'vocabulary.p', 'wb') as fp:\n",
        "  pickle.dump(vocabulary, fp)"
      ],
      "execution_count": 0,
      "outputs": []
    },
    {
      "cell_type": "markdown",
      "metadata": {
        "id": "1QQ1ISB1VG7U",
        "colab_type": "text"
      },
      "source": [
        "Create the embedding matrix for LSTM. The embedding matrix for LSTM is created using word2vec."
      ]
    },
    {
      "cell_type": "code",
      "metadata": {
        "id": "umgO83haVGRA",
        "colab_type": "code",
        "colab": {}
      },
      "source": [
        "embedding_dim = 300\n",
        "# This will be the embedding matrix\n",
        "embeddings = 1 * np.random.randn(len(vocabulary) + 1, embedding_dim)\n",
        "embeddings[0] = 0  # So that the padding will be ignored\n",
        "\n",
        "# Build the embedding matrix using word2vec for LSTM embedding\n",
        "for word, index in vocabulary.items():\n",
        "  if word in word2vec.vocab:\n",
        "    embeddings[index] = word2vec.word_vec(word)"
      ],
      "execution_count": 0,
      "outputs": []
    },
    {
      "cell_type": "code",
      "metadata": {
        "id": "sfoo89674g9N",
        "colab_type": "code",
        "outputId": "f92a1e62-0840-40bc-f97d-1e2d1c76cc6f",
        "colab": {
          "base_uri": "https://localhost:8080/",
          "height": 206
        }
      },
      "source": [
        "data.head()"
      ],
      "execution_count": 0,
      "outputs": [
        {
          "output_type": "execute_result",
          "data": {
            "text/html": [
              "<div>\n",
              "<style scoped>\n",
              "    .dataframe tbody tr th:only-of-type {\n",
              "        vertical-align: middle;\n",
              "    }\n",
              "\n",
              "    .dataframe tbody tr th {\n",
              "        vertical-align: top;\n",
              "    }\n",
              "\n",
              "    .dataframe thead th {\n",
              "        text-align: right;\n",
              "    }\n",
              "</style>\n",
              "<table border=\"1\" class=\"dataframe\">\n",
              "  <thead>\n",
              "    <tr style=\"text-align: right;\">\n",
              "      <th></th>\n",
              "      <th>id</th>\n",
              "      <th>is_duplicate</th>\n",
              "      <th>q1_tokenized</th>\n",
              "      <th>q2_tokenized</th>\n",
              "      <th>q1_tokenized_embed</th>\n",
              "      <th>q2_tokenized_embed</th>\n",
              "    </tr>\n",
              "  </thead>\n",
              "  <tbody>\n",
              "    <tr>\n",
              "      <th>0</th>\n",
              "      <td>0</td>\n",
              "      <td>0</td>\n",
              "      <td>[step, step, guid, invest, share, market, india]</td>\n",
              "      <td>[step, step, guid, invest, share, market]</td>\n",
              "      <td>[1, 1, 2, 3, 4, 5, 6]</td>\n",
              "      <td>[1, 1, 2, 3, 4, 5]</td>\n",
              "    </tr>\n",
              "    <tr>\n",
              "      <th>1</th>\n",
              "      <td>1</td>\n",
              "      <td>0</td>\n",
              "      <td>[stori, kohinoor, koh-i-noor, diamond]</td>\n",
              "      <td>[would, happen, indian, govern, stole, kohinoo...</td>\n",
              "      <td>[7, 8, 9, 10]</td>\n",
              "      <td>[11, 12, 13, 14, 15, 8, 9, 10, 16]</td>\n",
              "    </tr>\n",
              "    <tr>\n",
              "      <th>2</th>\n",
              "      <td>2</td>\n",
              "      <td>0</td>\n",
              "      <td>[increas, speed, internet, connect, use, vpn]</td>\n",
              "      <td>[internet, speed, increas, hack, dn]</td>\n",
              "      <td>[17, 18, 19, 20, 21, 22]</td>\n",
              "      <td>[19, 18, 17, 23, 24]</td>\n",
              "    </tr>\n",
              "    <tr>\n",
              "      <th>3</th>\n",
              "      <td>3</td>\n",
              "      <td>0</td>\n",
              "      <td>[mental, lone, solv]</td>\n",
              "      <td>[find, remaind, math, 23^, 24, , math, divid, ...</td>\n",
              "      <td>[25, 26, 27]</td>\n",
              "      <td>[28, 29, 30, 31, 32, 33, 30, 34, 35]</td>\n",
              "    </tr>\n",
              "    <tr>\n",
              "      <th>4</th>\n",
              "      <td>4</td>\n",
              "      <td>0</td>\n",
              "      <td>[one, dissolv, water, quikli, sugar, salt, met...</td>\n",
              "      <td>[fish, would, surviv, salt, water]</td>\n",
              "      <td>[36, 37, 38, 39, 40, 41, 42, 43, 44, 45]</td>\n",
              "      <td>[46, 11, 47, 41, 38]</td>\n",
              "    </tr>\n",
              "  </tbody>\n",
              "</table>\n",
              "</div>"
            ],
            "text/plain": [
              "   id  ...                    q2_tokenized_embed\n",
              "0   0  ...                    [1, 1, 2, 3, 4, 5]\n",
              "1   1  ...    [11, 12, 13, 14, 15, 8, 9, 10, 16]\n",
              "2   2  ...                  [19, 18, 17, 23, 24]\n",
              "3   3  ...  [28, 29, 30, 31, 32, 33, 30, 34, 35]\n",
              "4   4  ...                  [46, 11, 47, 41, 38]\n",
              "\n",
              "[5 rows x 6 columns]"
            ]
          },
          "metadata": {
            "tags": []
          },
          "execution_count": 8
        }
      ]
    },
    {
      "cell_type": "markdown",
      "metadata": {
        "id": "wEWzA1x_6-GN",
        "colab_type": "text"
      },
      "source": [
        "Split the dataset into train and test set. 80% is train + validation set and 20% is test set. The validation set will be taken out of train set in the next step."
      ]
    },
    {
      "cell_type": "code",
      "metadata": {
        "id": "we9LgXac7B2g",
        "colab_type": "code",
        "colab": {}
      },
      "source": [
        "train, test = train_test_split(data, test_size=0.2)"
      ],
      "execution_count": 0,
      "outputs": []
    },
    {
      "cell_type": "markdown",
      "metadata": {
        "id": "mj2wT0Ik7tr7",
        "colab_type": "text"
      },
      "source": [
        "Prepare the data by zero padding each question's embedding in order give them all uniform size."
      ]
    },
    {
      "cell_type": "code",
      "metadata": {
        "id": "kYyAX2Fc7dn_",
        "colab_type": "code",
        "colab": {}
      },
      "source": [
        "# Get the question embedded vector with the longest length\n",
        "max_seq_length = max(data['q1_tokenized_embed'].map(lambda x: len(x)).max(), data['q2_tokenized_embed'].map(lambda x: len(x)).max())\n",
        "\n",
        "embed_cols = ['q1_tokenized_embed', 'q2_tokenized_embed']\n",
        "train_X = train[embed_cols]\n",
        "X_train = {'left': train_X['q1_tokenized_embed'], 'right': train_X['q2_tokenized_embed']}\n",
        "train_Y = train['is_duplicate']\n",
        "\n",
        "X_test = {'left': test['q1_tokenized_embed'], 'right': test['q2_tokenized_embed']}\n",
        "test_Y = test['is_duplicate']\n",
        "\n",
        "# Zero padding all the question embedded vector to fit max_seq_length\n",
        "for dataset, side in itertools.product([X_train, X_test], ['left', 'right']):\n",
        "    dataset[side] = pad_sequences(dataset[side], maxlen=max_seq_length)"
      ],
      "execution_count": 0,
      "outputs": []
    },
    {
      "cell_type": "markdown",
      "metadata": {
        "id": "SjehPo8fAHQy",
        "colab_type": "text"
      },
      "source": [
        "Now setup the neural net"
      ]
    },
    {
      "cell_type": "code",
      "metadata": {
        "id": "LFhlv3hTAKe4",
        "colab_type": "code",
        "colab": {}
      },
      "source": [
        "# Model variables\n",
        "n_hidden = 50\n",
        "batch_size = 1024\n",
        "n_epoch = 20"
      ],
      "execution_count": 0,
      "outputs": []
    },
    {
      "cell_type": "code",
      "metadata": {
        "id": "a42xL9juAMVH",
        "colab_type": "code",
        "colab": {}
      },
      "source": [
        "#This will be allow us to determine similarity between two questions.\n",
        "def exponent_neg_manhattan_distance(left, right):\n",
        "    ''' Helper function for the similarity estimate of the LSTMs outputs'''\n",
        "    return K.exp(-K.sum(K.abs(left-right), axis=1, keepdims=True))\n",
        "\n",
        "def get_model():\n",
        "  # The input layer\n",
        "  left_input = Input(shape=(max_seq_length,), dtype='int32')\n",
        "  right_input = Input(shape=(max_seq_length,), dtype='int32')\n",
        "\n",
        "  # The embedding layer using the embedding array created earlier\n",
        "  embedding_layer = Embedding(len(embeddings), \n",
        "                              embedding_dim, \n",
        "                              weights=[embeddings], \n",
        "                              input_length=max_seq_length, \n",
        "                              trainable=False)\n",
        "\n",
        "  # Embed both of the inputs\n",
        "  encoded_left = embedding_layer(left_input)\n",
        "  encoded_right = embedding_layer(right_input)\n",
        "\n",
        "  # LSTM layer\n",
        "  shared_lstm = LSTM(n_hidden)\n",
        "\n",
        "  # Since this is a siamese network, both sides share the same LSTM\n",
        "  left_output = shared_lstm(encoded_left)\n",
        "  right_output = shared_lstm(encoded_right)\n",
        "\n",
        "  # Calculates the distance as defined by the MaLSTM model from the paper\n",
        "  malstm_distance = Lambda(function=lambda x: exponent_neg_manhattan_distance(x[0], x[1]),output_shape=lambda x: (x[0][0], 1))([left_output, right_output])\n",
        "\n",
        "  malstm = Model([left_input, right_input], [malstm_distance])\n",
        "\n",
        "  malstm.compile(loss='mean_squared_error', optimizer='adam', metrics=['accuracy'])\n",
        "  malstm.summary()\n",
        "\n",
        "  return malstm"
      ],
      "execution_count": 0,
      "outputs": []
    },
    {
      "cell_type": "code",
      "metadata": {
        "id": "3NwW0MCCB2V7",
        "colab_type": "code",
        "outputId": "ccdc0186-72cf-4a41-f7f9-bedc4b49599b",
        "colab": {
          "base_uri": "https://localhost:8080/",
          "height": 1000
        }
      },
      "source": [
        "model = get_model()\n",
        "model_trained = model.fit([X_train['left'], X_train['right']], \n",
        "                          train_Y, \n",
        "                          batch_size=batch_size, \n",
        "                          epochs=n_epoch,\n",
        "                          validation_split=0.2)"
      ],
      "execution_count": 0,
      "outputs": [
        {
          "output_type": "stream",
          "text": [
            "WARNING:tensorflow:From /usr/local/lib/python3.6/dist-packages/tensorflow_core/python/keras/initializers.py:119: calling RandomUniform.__init__ (from tensorflow.python.ops.init_ops) with dtype is deprecated and will be removed in a future version.\n",
            "Instructions for updating:\n",
            "Call initializer instance with the dtype argument instead of passing it to the constructor\n",
            "WARNING:tensorflow:From /usr/local/lib/python3.6/dist-packages/tensorflow_core/python/ops/resource_variable_ops.py:1630: calling BaseResourceVariable.__init__ (from tensorflow.python.ops.resource_variable_ops) with constraint is deprecated and will be removed in a future version.\n",
            "Instructions for updating:\n",
            "If using Keras pass *_constraint arguments to layers.\n",
            "Model: \"model\"\n",
            "__________________________________________________________________________________________________\n",
            "Layer (type)                    Output Shape         Param #     Connected to                     \n",
            "==================================================================================================\n",
            "input_1 (InputLayer)            [(None, 109)]        0                                            \n",
            "__________________________________________________________________________________________________\n",
            "input_2 (InputLayer)            [(None, 109)]        0                                            \n",
            "__________________________________________________________________________________________________\n",
            "embedding (Embedding)           (None, 109, 300)     25987500    input_1[0][0]                    \n",
            "                                                                 input_2[0][0]                    \n",
            "__________________________________________________________________________________________________\n",
            "lstm (LSTM)                     (None, 50)           70200       embedding[0][0]                  \n",
            "                                                                 embedding[1][0]                  \n",
            "__________________________________________________________________________________________________\n",
            "lambda (Lambda)                 (None, 1)            0           lstm[0][0]                       \n",
            "                                                                 lstm[1][0]                       \n",
            "==================================================================================================\n",
            "Total params: 26,057,700\n",
            "Trainable params: 70,200\n",
            "Non-trainable params: 25,987,500\n",
            "__________________________________________________________________________________________________\n",
            "WARNING:tensorflow:From /usr/local/lib/python3.6/dist-packages/tensorflow_core/python/ops/math_grad.py:1424: where (from tensorflow.python.ops.array_ops) is deprecated and will be removed in a future version.\n",
            "Instructions for updating:\n",
            "Use tf.where in 2.0, which has the same broadcast rule as np.where\n",
            "Train on 258745 samples, validate on 64687 samples\n",
            "Epoch 1/20\n",
            "258745/258745 [==============================] - 903s 3ms/sample - loss: 0.2118 - acc: 0.7155 - val_loss: 0.1946 - val_acc: 0.7326\n",
            "Epoch 2/20\n",
            "258745/258745 [==============================] - 911s 4ms/sample - loss: 0.1828 - acc: 0.7474 - val_loss: 0.1802 - val_acc: 0.7483\n",
            "Epoch 3/20\n",
            "258745/258745 [==============================] - 911s 4ms/sample - loss: 0.1705 - acc: 0.7633 - val_loss: 0.1714 - val_acc: 0.7608\n",
            "Epoch 4/20\n",
            "258745/258745 [==============================] - 910s 4ms/sample - loss: 0.1627 - acc: 0.7743 - val_loss: 0.1659 - val_acc: 0.7684\n",
            "Epoch 5/20\n",
            "258745/258745 [==============================] - 910s 4ms/sample - loss: 0.1575 - acc: 0.7825 - val_loss: 0.1621 - val_acc: 0.7749\n",
            "Epoch 6/20\n",
            "258745/258745 [==============================] - 920s 4ms/sample - loss: 0.1535 - acc: 0.7886 - val_loss: 0.1596 - val_acc: 0.7783\n",
            "Epoch 7/20\n",
            "258745/258745 [==============================] - 896s 3ms/sample - loss: 0.1504 - acc: 0.7932 - val_loss: 0.1580 - val_acc: 0.7797\n",
            "Epoch 8/20\n",
            "258745/258745 [==============================] - 896s 3ms/sample - loss: 0.1478 - acc: 0.7969 - val_loss: 0.1560 - val_acc: 0.7841\n",
            "Epoch 9/20\n",
            "258745/258745 [==============================] - 900s 3ms/sample - loss: 0.1456 - acc: 0.8006 - val_loss: 0.1545 - val_acc: 0.7872\n",
            "Epoch 10/20\n",
            "258745/258745 [==============================] - 900s 3ms/sample - loss: 0.1436 - acc: 0.8036 - val_loss: 0.1535 - val_acc: 0.7883\n",
            "Epoch 11/20\n",
            "258745/258745 [==============================] - 899s 3ms/sample - loss: 0.1419 - acc: 0.8068 - val_loss: 0.1527 - val_acc: 0.7909\n",
            "Epoch 12/20\n",
            "258745/258745 [==============================] - 901s 3ms/sample - loss: 0.1403 - acc: 0.8093 - val_loss: 0.1516 - val_acc: 0.7927\n",
            "Epoch 13/20\n",
            "258745/258745 [==============================] - 912s 4ms/sample - loss: 0.1388 - acc: 0.8122 - val_loss: 0.1510 - val_acc: 0.7937\n",
            "Epoch 14/20\n",
            "258745/258745 [==============================] - 917s 4ms/sample - loss: 0.1375 - acc: 0.8137 - val_loss: 0.1505 - val_acc: 0.7960\n",
            "Epoch 15/20\n",
            "258745/258745 [==============================] - 914s 4ms/sample - loss: 0.1366 - acc: 0.8157 - val_loss: 0.1498 - val_acc: 0.7961\n",
            "Epoch 16/20\n",
            "258745/258745 [==============================] - 946s 4ms/sample - loss: 0.1353 - acc: 0.8177 - val_loss: 0.1498 - val_acc: 0.7947\n",
            "Epoch 17/20\n",
            "258745/258745 [==============================] - 908s 4ms/sample - loss: 0.1342 - acc: 0.8195 - val_loss: 0.1487 - val_acc: 0.7984\n",
            "Epoch 18/20\n",
            "258745/258745 [==============================] - 918s 4ms/sample - loss: 0.1332 - acc: 0.8216 - val_loss: 0.1489 - val_acc: 0.7986\n",
            "Epoch 19/20\n",
            "258745/258745 [==============================] - 918s 4ms/sample - loss: 0.1322 - acc: 0.8230 - val_loss: 0.1484 - val_acc: 0.8000\n",
            "Epoch 20/20\n",
            "258745/258745 [==============================] - 925s 4ms/sample - loss: 0.1312 - acc: 0.8247 - val_loss: 0.1478 - val_acc: 0.8002\n"
          ],
          "name": "stdout"
        }
      ]
    },
    {
      "cell_type": "markdown",
      "metadata": {
        "id": "q2elXJypz3Ml",
        "colab_type": "text"
      },
      "source": [
        "Save the train and test splits for later use."
      ]
    },
    {
      "cell_type": "code",
      "metadata": {
        "id": "6iS9VeApz2-X",
        "colab_type": "code",
        "colab": {}
      },
      "source": [
        "path = '/content/drive/My Drive/Colab Notebooks/nlp-final-project/'\n",
        "train.to_csv(path + 'train_split.csv')\n",
        "test.to_csv(path + 'test_split.csv')"
      ],
      "execution_count": 0,
      "outputs": []
    },
    {
      "cell_type": "code",
      "metadata": {
        "id": "6zOPj_nU0yPu",
        "colab_type": "code",
        "colab": {}
      },
      "source": [
        "path = '/content/drive/My Drive/Colab Notebooks/nlp-final-project/'\n",
        "with open(path + 'vocabulary.p', 'wb') as fp:\n",
        "  pickle.dump(vocabulary, fp)"
      ],
      "execution_count": 0,
      "outputs": []
    },
    {
      "cell_type": "markdown",
      "metadata": {
        "id": "1Yb5LnrojV-1",
        "colab_type": "text"
      },
      "source": [
        "Save the model's history such that its performance can be analyzed in future. Set the path where history should be saved."
      ]
    },
    {
      "cell_type": "code",
      "metadata": {
        "id": "A5nqWN8VjVWb",
        "colab_type": "code",
        "colab": {}
      },
      "source": [
        "path = '/content/drive/My Drive/Colab Notebooks/nlp-final-project/'\n",
        "with open(path + 'trainHistoryDict', 'wb') as file:\n",
        "        pickle.dump(model_trained.history, file)"
      ],
      "execution_count": 0,
      "outputs": []
    },
    {
      "cell_type": "markdown",
      "metadata": {
        "id": "2J4KWahRidhH",
        "colab_type": "text"
      },
      "source": [
        "Save the trained model for future reference. Set the path where model should be saved."
      ]
    },
    {
      "cell_type": "code",
      "metadata": {
        "id": "9gkz6tJrR5qw",
        "colab_type": "code",
        "colab": {}
      },
      "source": [
        "path = '/content/drive/My Drive/Colab Notebooks/nlp-final-project/'\n",
        "model.save(path + 'model.h5')"
      ],
      "execution_count": 0,
      "outputs": []
    },
    {
      "cell_type": "markdown",
      "metadata": {
        "id": "nEDgg_Cyiytg",
        "colab_type": "text"
      },
      "source": [
        "Load the saved model."
      ]
    },
    {
      "cell_type": "code",
      "metadata": {
        "id": "iZCOQRuBi2C1",
        "colab_type": "code",
        "outputId": "7211a54f-9d8c-4863-e29d-80c850754c0b",
        "colab": {
          "base_uri": "https://localhost:8080/",
          "height": 350
        }
      },
      "source": [
        "#This will be allow us to determine similarity between two questions.\n",
        "def exponent_neg_manhattan_distance(left, right):\n",
        "    ''' Helper function for the similarity estimate of the LSTMs outputs'''\n",
        "    return K.exp(-K.sum(K.abs(left-right), axis=1, keepdims=True))\n",
        "    \n",
        "model = load_model('/content/drive/My Drive/Colab Notebooks/nlp-final-project/model.h5')"
      ],
      "execution_count": 0,
      "outputs": [
        {
          "output_type": "stream",
          "text": [
            "WARNING:tensorflow:From /usr/local/lib/python3.6/dist-packages/tensorflow_core/python/keras/initializers.py:119: calling RandomUniform.__init__ (from tensorflow.python.ops.init_ops) with dtype is deprecated and will be removed in a future version.\n",
            "Instructions for updating:\n",
            "Call initializer instance with the dtype argument instead of passing it to the constructor\n",
            "WARNING:tensorflow:From /usr/local/lib/python3.6/dist-packages/tensorflow_core/python/ops/init_ops.py:97: calling GlorotUniform.__init__ (from tensorflow.python.ops.init_ops) with dtype is deprecated and will be removed in a future version.\n",
            "Instructions for updating:\n",
            "Call initializer instance with the dtype argument instead of passing it to the constructor\n",
            "WARNING:tensorflow:From /usr/local/lib/python3.6/dist-packages/tensorflow_core/python/ops/init_ops.py:97: calling Orthogonal.__init__ (from tensorflow.python.ops.init_ops) with dtype is deprecated and will be removed in a future version.\n",
            "Instructions for updating:\n",
            "Call initializer instance with the dtype argument instead of passing it to the constructor\n",
            "WARNING:tensorflow:From /usr/local/lib/python3.6/dist-packages/tensorflow_core/python/ops/init_ops.py:97: calling Zeros.__init__ (from tensorflow.python.ops.init_ops) with dtype is deprecated and will be removed in a future version.\n",
            "Instructions for updating:\n",
            "Call initializer instance with the dtype argument instead of passing it to the constructor\n",
            "WARNING:tensorflow:From /usr/local/lib/python3.6/dist-packages/tensorflow_core/python/ops/resource_variable_ops.py:1630: calling BaseResourceVariable.__init__ (from tensorflow.python.ops.resource_variable_ops) with constraint is deprecated and will be removed in a future version.\n",
            "Instructions for updating:\n",
            "If using Keras pass *_constraint arguments to layers.\n",
            "WARNING:tensorflow:From /usr/local/lib/python3.6/dist-packages/tensorflow_core/python/ops/math_grad.py:1424: where (from tensorflow.python.ops.array_ops) is deprecated and will be removed in a future version.\n",
            "Instructions for updating:\n",
            "Use tf.where in 2.0, which has the same broadcast rule as np.where\n"
          ],
          "name": "stdout"
        }
      ]
    },
    {
      "cell_type": "markdown",
      "metadata": {
        "id": "62SwkAbi7vhe",
        "colab_type": "text"
      },
      "source": [
        "Evaluate the model's performance."
      ]
    },
    {
      "cell_type": "code",
      "metadata": {
        "id": "lGtTLIqS2Dvm",
        "colab_type": "code",
        "colab": {}
      },
      "source": [
        "pred = model.predict([X_test['left'], X_test['right']])"
      ],
      "execution_count": 0,
      "outputs": []
    },
    {
      "cell_type": "code",
      "metadata": {
        "id": "MuGXSt-s2gr0",
        "colab_type": "code",
        "outputId": "632cbe31-641b-44ae-bf37-99b593c0dd2a",
        "colab": {
          "base_uri": "https://localhost:8080/",
          "height": 666
        }
      },
      "source": [
        "predict_labels = []\n",
        "for p in pred:\n",
        "  if p > 0.6:\n",
        "    predict_labels.append(1)\n",
        "  else:\n",
        "    predict_labels.append(0)\n",
        "\n",
        "\n",
        "plt.figure(figsize=(7, 7))\n",
        "ax= plt.subplot()\n",
        "conf_mat = confusion_matrix(test['is_duplicate'].values, predict_labels)\n",
        "conf_mat_normalized = conf_mat.astype('float') / conf_mat.sum(axis=1)[:, np.newaxis]\n",
        "sns.heatmap(conf_mat_normalized, annot=True, ax = ax); #annot=True to annotate cells\n",
        "# labels, title and ticks\n",
        "ax.set_xlabel('Predicted labels');ax.set_ylabel('True labels'); \n",
        "ax.set_title('Normalized Confusion Matrix'); \n",
        "ax.xaxis.set_ticklabels(['0', '1']); ax.yaxis.set_ticklabels(['0', '1']);\n",
        "plt.show()\n",
        "\n",
        "print('\\n')\n",
        "print('Classification Report:')\n",
        "print(classification_report(test['is_duplicate'].values, predict_labels))"
      ],
      "execution_count": 0,
      "outputs": [
        {
          "output_type": "display_data",
          "data": {
            "image/png": "[encoded data removed]",
            "text/plain": [
              "<Figure size 504x504 with 2 Axes>"
            ]
          },
          "metadata": {
            "tags": []
          }
        },
        {
          "output_type": "stream",
          "text": [
            "\n",
            "\n",
            "Classification Report:\n",
            "              precision    recall  f1-score   support\n",
            "\n",
            "           0       0.78      0.92      0.84     51007\n",
            "           1       0.80      0.56      0.66     29851\n",
            "\n",
            "    accuracy                           0.79     80858\n",
            "   macro avg       0.79      0.74      0.75     80858\n",
            "weighted avg       0.79      0.79      0.78     80858\n",
            "\n"
          ],
          "name": "stdout"
        }
      ]
    },
    {
      "cell_type": "markdown",
      "metadata": {
        "id": "Wn-jMzoPETjF",
        "colab_type": "text"
      },
      "source": [
        "Analyse the output from neural net by visualising the loss and accuracy."
      ]
    },
    {
      "cell_type": "code",
      "metadata": {
        "id": "94Ri-pxNETPW",
        "colab_type": "code",
        "colab": {}
      },
      "source": [
        "path = '/content/drive/My Drive/Colab Notebooks/nlp-final-project/'\n",
        "\n",
        "with open(path + 'trainHistoryDict', 'rb') as fp:\n",
        "  model_history = pickle.load(fp)\n",
        "\n",
        "epochs = len(model_history['acc'])"
      ],
      "execution_count": 0,
      "outputs": []
    },
    {
      "cell_type": "code",
      "metadata": {
        "id": "A6fPY4iPEzpo",
        "colab_type": "code",
        "outputId": "91f0a79d-e36a-45af-f79d-e3267e8241ed",
        "colab": {
          "base_uri": "https://localhost:8080/",
          "height": 606
        }
      },
      "source": [
        "plt.figure(figsize = (15, 10))\n",
        "plt.plot(np.linspace(1, epochs, epochs), malstm_history['acc'])\n",
        "plt.xlabel('epochs')\n",
        "plt.ylabel('training set accuracy')\n",
        "plt.show()"
      ],
      "execution_count": 0,
      "outputs": [
        {
          "output_type": "display_data",
          "data": {
            "image/png": "[encoded data removed]",
            "text/plain": [
              "<Figure size 1080x720 with 1 Axes>"
            ]
          },
          "metadata": {
            "tags": []
          }
        }
      ]
    },
    {
      "cell_type": "code",
      "metadata": {
        "id": "ESgsPvy1E_pi",
        "colab_type": "code",
        "outputId": "ab301c3c-8acd-4599-edb6-066ff2886088",
        "colab": {
          "base_uri": "https://localhost:8080/",
          "height": 606
        }
      },
      "source": [
        "plt.figure(figsize = (15, 10))\n",
        "plt.plot(np.linspace(1, epochs, epochs), malstm_history['loss'])\n",
        "plt.xlabel('epochs')\n",
        "plt.ylabel('training set loss')\n",
        "plt.show()"
      ],
      "execution_count": 0,
      "outputs": [
        {
          "output_type": "display_data",
          "data": {
            "image/png": "[encoded data removed]",
            "text/plain": [
              "<Figure size 1080x720 with 1 Axes>"
            ]
          },
          "metadata": {
            "tags": []
          }
        }
      ]
    },
    {
      "cell_type": "code",
      "metadata": {
        "id": "_7smaWjtFC7b",
        "colab_type": "code",
        "outputId": "74ba195e-126f-4354-b25b-0893d54331a5",
        "colab": {
          "base_uri": "https://localhost:8080/",
          "height": 606
        }
      },
      "source": [
        "plt.figure(figsize = (15, 10))\n",
        "plt.plot(np.linspace(1, epochs, epochs), malstm_history['val_acc'])\n",
        "plt.xlabel('epochs')\n",
        "plt.ylabel('validation set accuracy')\n",
        "plt.show()"
      ],
      "execution_count": 0,
      "outputs": [
        {
          "output_type": "display_data",
          "data": {
            "image/png": "[encoded data removed]",
            "text/plain": [
              "<Figure size 1080x720 with 1 Axes>"
            ]
          },
          "metadata": {
            "tags": []
          }
        }
      ]
    },
    {
      "cell_type": "code",
      "metadata": {
        "id": "LT2kc03fFHUZ",
        "colab_type": "code",
        "outputId": "798faeff-e745-491d-8b5d-3f52ccf1a126",
        "colab": {
          "base_uri": "https://localhost:8080/",
          "height": 606
        }
      },
      "source": [
        "plt.figure(figsize = (15, 10))\n",
        "plt.plot(np.linspace(1, epochs, epochs), malstm_history['val_loss'])\n",
        "plt.xlabel('epochs')\n",
        "plt.ylabel('validation set loss')\n",
        "plt.show()"
      ],
      "execution_count": 0,
      "outputs": [
        {
          "output_type": "display_data",
          "data": {
            "image/png": "[encoded data removed]",
            "text/plain": [
              "<Figure size 1080x720 with 1 Axes>"
            ]
          },
          "metadata": {
            "tags": []
          }
        }
      ]
    },
    {
      "cell_type": "code",
      "metadata": {
        "id": "Tum2TSnsFKUF",
        "colab_type": "code",
        "outputId": "e11a1bc6-a820-44d3-f423-c9e448fc6dc9",
        "colab": {
          "base_uri": "https://localhost:8080/",
          "height": 677
        }
      },
      "source": [
        "model_stats = pd.DataFrame(malstm_history)\n",
        "model_stats"
      ],
      "execution_count": 0,
      "outputs": [
        {
          "output_type": "execute_result",
          "data": {
            "text/html": [
              "<div>\n",
              "<style scoped>\n",
              "    .dataframe tbody tr th:only-of-type {\n",
              "        vertical-align: middle;\n",
              "    }\n",
              "\n",
              "    .dataframe tbody tr th {\n",
              "        vertical-align: top;\n",
              "    }\n",
              "\n",
              "    .dataframe thead th {\n",
              "        text-align: right;\n",
              "    }\n",
              "</style>\n",
              "<table border=\"1\" class=\"dataframe\">\n",
              "  <thead>\n",
              "    <tr style=\"text-align: right;\">\n",
              "      <th></th>\n",
              "      <th>loss</th>\n",
              "      <th>acc</th>\n",
              "      <th>val_loss</th>\n",
              "      <th>val_acc</th>\n",
              "    </tr>\n",
              "  </thead>\n",
              "  <tbody>\n",
              "    <tr>\n",
              "      <th>0</th>\n",
              "      <td>0.211848</td>\n",
              "      <td>0.715465</td>\n",
              "      <td>0.194609</td>\n",
              "      <td>0.732589</td>\n",
              "    </tr>\n",
              "    <tr>\n",
              "      <th>1</th>\n",
              "      <td>0.182813</td>\n",
              "      <td>0.747442</td>\n",
              "      <td>0.180153</td>\n",
              "      <td>0.748342</td>\n",
              "    </tr>\n",
              "    <tr>\n",
              "      <th>2</th>\n",
              "      <td>0.170476</td>\n",
              "      <td>0.763338</td>\n",
              "      <td>0.171404</td>\n",
              "      <td>0.760787</td>\n",
              "    </tr>\n",
              "    <tr>\n",
              "      <th>3</th>\n",
              "      <td>0.162746</td>\n",
              "      <td>0.774322</td>\n",
              "      <td>0.165863</td>\n",
              "      <td>0.768439</td>\n",
              "    </tr>\n",
              "    <tr>\n",
              "      <th>4</th>\n",
              "      <td>0.157510</td>\n",
              "      <td>0.782473</td>\n",
              "      <td>0.162086</td>\n",
              "      <td>0.774932</td>\n",
              "    </tr>\n",
              "    <tr>\n",
              "      <th>5</th>\n",
              "      <td>0.153512</td>\n",
              "      <td>0.788599</td>\n",
              "      <td>0.159594</td>\n",
              "      <td>0.778255</td>\n",
              "    </tr>\n",
              "    <tr>\n",
              "      <th>6</th>\n",
              "      <td>0.150365</td>\n",
              "      <td>0.793167</td>\n",
              "      <td>0.157959</td>\n",
              "      <td>0.779693</td>\n",
              "    </tr>\n",
              "    <tr>\n",
              "      <th>7</th>\n",
              "      <td>0.147849</td>\n",
              "      <td>0.796931</td>\n",
              "      <td>0.155954</td>\n",
              "      <td>0.784099</td>\n",
              "    </tr>\n",
              "    <tr>\n",
              "      <th>8</th>\n",
              "      <td>0.145563</td>\n",
              "      <td>0.800599</td>\n",
              "      <td>0.154530</td>\n",
              "      <td>0.787160</td>\n",
              "    </tr>\n",
              "    <tr>\n",
              "      <th>9</th>\n",
              "      <td>0.143574</td>\n",
              "      <td>0.803617</td>\n",
              "      <td>0.153541</td>\n",
              "      <td>0.788335</td>\n",
              "    </tr>\n",
              "    <tr>\n",
              "      <th>10</th>\n",
              "      <td>0.141903</td>\n",
              "      <td>0.806779</td>\n",
              "      <td>0.152734</td>\n",
              "      <td>0.790885</td>\n",
              "    </tr>\n",
              "    <tr>\n",
              "      <th>11</th>\n",
              "      <td>0.140263</td>\n",
              "      <td>0.809268</td>\n",
              "      <td>0.151619</td>\n",
              "      <td>0.792740</td>\n",
              "    </tr>\n",
              "    <tr>\n",
              "      <th>12</th>\n",
              "      <td>0.138839</td>\n",
              "      <td>0.812209</td>\n",
              "      <td>0.151001</td>\n",
              "      <td>0.793745</td>\n",
              "    </tr>\n",
              "    <tr>\n",
              "      <th>13</th>\n",
              "      <td>0.137500</td>\n",
              "      <td>0.813693</td>\n",
              "      <td>0.150455</td>\n",
              "      <td>0.795987</td>\n",
              "    </tr>\n",
              "    <tr>\n",
              "      <th>14</th>\n",
              "      <td>0.136556</td>\n",
              "      <td>0.815699</td>\n",
              "      <td>0.149754</td>\n",
              "      <td>0.796064</td>\n",
              "    </tr>\n",
              "    <tr>\n",
              "      <th>15</th>\n",
              "      <td>0.135298</td>\n",
              "      <td>0.817709</td>\n",
              "      <td>0.149825</td>\n",
              "      <td>0.794688</td>\n",
              "    </tr>\n",
              "    <tr>\n",
              "      <th>16</th>\n",
              "      <td>0.134211</td>\n",
              "      <td>0.819479</td>\n",
              "      <td>0.148676</td>\n",
              "      <td>0.798429</td>\n",
              "    </tr>\n",
              "    <tr>\n",
              "      <th>17</th>\n",
              "      <td>0.133173</td>\n",
              "      <td>0.821593</td>\n",
              "      <td>0.148941</td>\n",
              "      <td>0.798646</td>\n",
              "    </tr>\n",
              "    <tr>\n",
              "      <th>18</th>\n",
              "      <td>0.132152</td>\n",
              "      <td>0.823019</td>\n",
              "      <td>0.148446</td>\n",
              "      <td>0.800006</td>\n",
              "    </tr>\n",
              "    <tr>\n",
              "      <th>19</th>\n",
              "      <td>0.131246</td>\n",
              "      <td>0.824688</td>\n",
              "      <td>0.147823</td>\n",
              "      <td>0.800192</td>\n",
              "    </tr>\n",
              "  </tbody>\n",
              "</table>\n",
              "</div>"
            ],
            "text/plain": [
              "        loss       acc  val_loss   val_acc\n",
              "0   0.211848  0.715465  0.194609  0.732589\n",
              "1   0.182813  0.747442  0.180153  0.748342\n",
              "2   0.170476  0.763338  0.171404  0.760787\n",
              "3   0.162746  0.774322  0.165863  0.768439\n",
              "4   0.157510  0.782473  0.162086  0.774932\n",
              "5   0.153512  0.788599  0.159594  0.778255\n",
              "6   0.150365  0.793167  0.157959  0.779693\n",
              "7   0.147849  0.796931  0.155954  0.784099\n",
              "8   0.145563  0.800599  0.154530  0.787160\n",
              "9   0.143574  0.803617  0.153541  0.788335\n",
              "10  0.141903  0.806779  0.152734  0.790885\n",
              "11  0.140263  0.809268  0.151619  0.792740\n",
              "12  0.138839  0.812209  0.151001  0.793745\n",
              "13  0.137500  0.813693  0.150455  0.795987\n",
              "14  0.136556  0.815699  0.149754  0.796064\n",
              "15  0.135298  0.817709  0.149825  0.794688\n",
              "16  0.134211  0.819479  0.148676  0.798429\n",
              "17  0.133173  0.821593  0.148941  0.798646\n",
              "18  0.132152  0.823019  0.148446  0.800006\n",
              "19  0.131246  0.824688  0.147823  0.800192"
            ]
          },
          "metadata": {
            "tags": []
          },
          "execution_count": 100
        }
      ]
    },
    {
      "cell_type": "markdown",
      "metadata": {
        "id": "SG6mD5qfkLdo",
        "colab_type": "text"
      },
      "source": [
        "#Prepare the answer dataset."
      ]
    },
    {
      "cell_type": "markdown",
      "metadata": {
        "id": "JWJcms2-lZoJ",
        "colab_type": "text"
      },
      "source": [
        "Load the answer dataset obtained from http://www.msmarco.org/dataset.aspx.\n",
        "The one being used for this project is dev set under Question Answering V2.1."
      ]
    },
    {
      "cell_type": "code",
      "metadata": {
        "id": "f4DVZloAkRTW",
        "colab_type": "code",
        "colab": {}
      },
      "source": [
        "answer_data = pd.read_json('/content/drive/My Drive/Colab Notebooks/nlp-final-project/dev_v2.1.json')"
      ],
      "execution_count": 0,
      "outputs": []
    },
    {
      "cell_type": "markdown",
      "metadata": {
        "id": "j-HbF8RPmaw6",
        "colab_type": "text"
      },
      "source": [
        "Clean the dataset."
      ]
    },
    {
      "cell_type": "code",
      "metadata": {
        "id": "yB3_1KTXmd9o",
        "colab_type": "code",
        "colab": {}
      },
      "source": [
        "stop_words = nltk.corpus.stopwords.words(\"english\")\n",
        "porter_stemmer = nltk.stem.PorterStemmer()\n",
        "\n",
        "def cleanAnswers(x):\n",
        "    for answer in x:\n",
        "        if answer == 'No Answer Present.':\n",
        "            return np.nan\n",
        "        else:\n",
        "            return answer\n",
        "\n",
        "answer_data['answers'] = answer_data['answers'].apply(lambda x: cleanAnswers(x))\n",
        "\n",
        "answer_data = answer_data.dropna(subset=['answers'])\n",
        "answer_data = answer_data.drop(['passages', 'query', 'query_id', 'query_type', 'wellFormedAnswers'], axis=1)\n",
        "answer_data['answer_tokenized'] = answer_data['answers'].apply(nltk.word_tokenize)\n",
        "answer_data['answer_tokenized'] = answer_data['answer_tokenized'].apply(lambda answer: [token.strip().lower() for token in answer])\n",
        "answer_data['answer_tokenized'] = answer_data['answer_tokenized'].apply(lambda data: [word for word in data if word not in stop_words])\n",
        "answer_data['answer_tokenized'] = answer_data['answer_tokenized'].apply(lambda data: [token for token in data if token not in punctuation])\n",
        "answer_data['answer_tokenized'] = answer_data['answer_tokenized'].apply(lambda data: [porter_stemmer.stem(word) for word in data])\n"
      ],
      "execution_count": 0,
      "outputs": []
    },
    {
      "cell_type": "markdown",
      "metadata": {
        "id": "J4Xu9a0Oqowm",
        "colab_type": "text"
      },
      "source": [
        "Save the cleaned data such that we do not need to perform cleaning again."
      ]
    },
    {
      "cell_type": "code",
      "metadata": {
        "id": "2D3Et9PQqsNc",
        "colab_type": "code",
        "colab": {}
      },
      "source": [
        "path = '/content/drive/My Drive/Colab Notebooks/nlp-final-project/'\n",
        "answer_data.to_csv(path + 'answers.csv')"
      ],
      "execution_count": 0,
      "outputs": []
    },
    {
      "cell_type": "markdown",
      "metadata": {
        "id": "zKZELq1Mq3N0",
        "colab_type": "text"
      },
      "source": [
        "Load the cleaned answers dataset."
      ]
    },
    {
      "cell_type": "code",
      "metadata": {
        "id": "WfU0vbH3rtgP",
        "colab_type": "code",
        "colab": {}
      },
      "source": [
        "path = '/content/drive/My Drive/Colab Notebooks/nlp-final-project/'\n",
        "answer_data = pd.read_csv(path + 'answers.csv')\n",
        "\n",
        "answer_data = pd.drop(['Unnamed: 0'], axis=1)\n",
        "answer_data['answer_tokenized'] = answer_data['answer_tokenized'].apply(literal_eval)"
      ],
      "execution_count": 0,
      "outputs": []
    },
    {
      "cell_type": "code",
      "metadata": {
        "id": "-XbVfucEtUDG",
        "colab_type": "code",
        "colab": {}
      },
      "source": [
        "dictionary = Dictionary(list(answer_data['answer_tokenized']))\n",
        "answer_data['doc2bow'] = answer_data['answer_tokenized'].apply(dictionary.doc2bow)\n",
        "corpus = list(answer_data['doc2bow'])\n",
        "tfidf = TfidfModel(corpus)\n",
        "answer_data['tfidf'] = answer_data['doc2bow'].apply(lambda x: tfidf[x])\n",
        "\n",
        "def getTopNKeyWords(x, n):\n",
        "    keywords = sorted(x, key=lambda tup: tup[1], reverse=True)\n",
        "    if len(keywords) > n:\n",
        "        return keywords[0:n]\n",
        "    else:\n",
        "        return keywords\n",
        "    \n",
        "answer_data['top_n_keywords'] = answer_data['tfidf'].apply(lambda x: getTopNKeyWords(x, 5))"
      ],
      "execution_count": 0,
      "outputs": []
    },
    {
      "cell_type": "markdown",
      "metadata": {
        "id": "qjwLLpV7uuSZ",
        "colab_type": "text"
      },
      "source": [
        "Save the modified dataset again for future reference. Also, save the dictionary."
      ]
    },
    {
      "cell_type": "code",
      "metadata": {
        "id": "1McfF-dhuh5r",
        "colab_type": "code",
        "outputId": "51bfaf60-d88e-439a-cf03-519cea86b055",
        "colab": {
          "base_uri": "https://localhost:8080/",
          "height": 72
        }
      },
      "source": [
        "path = '/content/drive/My Drive/Colab Notebooks/nlp-final-project/'\n",
        "answer_data.to_csv(path + 'answers_topn.csv')\n",
        "dictionary.save(path + 'answers_dictionary.dict')"
      ],
      "execution_count": 0,
      "outputs": [
        {
          "output_type": "stream",
          "text": [
            "/usr/local/lib/python3.6/dist-packages/smart_open/smart_open_lib.py:402: UserWarning: This function is deprecated, use smart_open.open instead. See the migration notes for details: https://github.com/RaRe-Technologies/smart_open/blob/master/README.rst#migrating-to-the-new-open-function\n",
            "  'See the migration notes for details: %s' % _MIGRATION_NOTES_URL\n"
          ],
          "name": "stderr"
        }
      ]
    },
    {
      "cell_type": "markdown",
      "metadata": {
        "id": "crBFYsWBt0e1",
        "colab_type": "text"
      },
      "source": [
        "#Put everything into action. Find a similar question if found otherwise give answer recommendation."
      ]
    },
    {
      "cell_type": "markdown",
      "metadata": {
        "id": "RLTOZmJ6uR9f",
        "colab_type": "text"
      },
      "source": [
        "Load all the necessary files."
      ]
    },
    {
      "cell_type": "code",
      "metadata": {
        "id": "KY73mUBSuGD8",
        "colab_type": "code",
        "colab": {}
      },
      "source": [
        "path = '/content/drive/My Drive/Colab Notebooks/nlp-final-project/'\n",
        "\n",
        "# load the questions content\n",
        "with open(path + 'vocabulary.p', 'rb') as fp:\n",
        "  question_vocabulary = pickle.load(fp)\n",
        "\n",
        "data_token = pd.read_csv(path + 'data_token.csv')\n",
        "train = pd.read_csv(path + 'train_split.csv')\n",
        "test = pd.read_csv(path + 'test_split.csv')\n",
        "train = train.drop(['Unnamed: 0'], axis=1)\n",
        "test = test.drop(['Unnamed: 0'], axis=1)\n",
        "data_token = data_token.drop(['Unnamed: 0', 'q1_tokenized', 'q2_tokenized', 'is_duplicate'], axis=1)\n",
        "train['q1_tokenized_embed'] = train['q1_tokenized_embed'].apply(literal_eval)\n",
        "train['q2_tokenized_embed'] = train['q2_tokenized_embed'].apply(literal_eval)\n",
        "test['q1_tokenized_embed'] = test['q1_tokenized_embed'].apply(literal_eval)\n",
        "test['q2_tokenized_embed'] = test['q2_tokenized_embed'].apply(literal_eval)\n",
        "\n",
        "\n",
        "# load the answers content\n",
        "answer_dictionary = Dictionary.load(path + 'answers_dictionary.dict')\n",
        "answers = pd.read_csv(path + 'answers_topn.csv')\n",
        "answers['doc2bow'] = answers['doc2bow'].apply(literal_eval)\n",
        "answers['top_n_keywords'] = answers['top_n_keywords'].apply(literal_eval)\n",
        "answer_corpus = list(answers['doc2bow'])\n",
        "\n",
        "\n",
        "# load the saved model\n",
        "#This will be allow us to determine similarity between two questions.\n",
        "def exponent_neg_manhattan_distance(left, right):\n",
        "    ''' Helper function for the similarity estimate of the LSTMs outputs'''\n",
        "    return K.exp(-K.sum(K.abs(left-right), axis=1, keepdims=True))\n",
        "    \n",
        "model = load_model(path + 'model.h5')"
      ],
      "execution_count": 0,
      "outputs": []
    },
    {
      "cell_type": "markdown",
      "metadata": {
        "id": "mW-vNbBK2qJr",
        "colab_type": "text"
      },
      "source": [
        "###Get the user question input. Set user input here."
      ]
    },
    {
      "cell_type": "code",
      "metadata": {
        "id": "A4uRhJK92uFZ",
        "colab_type": "code",
        "colab": {}
      },
      "source": [
        "# input_question = 'What is the speed of light?'\n",
        "input_question = 'How can I overcome tension?'"
      ],
      "execution_count": 0,
      "outputs": []
    },
    {
      "cell_type": "markdown",
      "metadata": {
        "id": "X3sanlZ83FNC",
        "colab_type": "text"
      },
      "source": [
        "Clean the user's query question and embed it aswell."
      ]
    },
    {
      "cell_type": "code",
      "metadata": {
        "id": "S_qV6x9_3KeI",
        "colab_type": "code",
        "colab": {}
      },
      "source": [
        "input_question_tokenized = nltk.word_tokenize(input_question)\n",
        "input_question_tokenized = [token.strip().lower() for token in input_question_tokenized]\n",
        "input_question_tokenized = [token for token in input_question_tokenized if (token not in nltk.corpus.stopwords.words('english') and token not in punctuation)]\n",
        "input_question_tokenized = [nltk.stem.PorterStemmer().stem(token) for token in input_question_tokenized]\n",
        "\n",
        "input_question_embedded = []\n",
        "for token in input_question_tokenized:\n",
        "  input_question_embedded.append(question_vocabulary[token])"
      ],
      "execution_count": 0,
      "outputs": []
    },
    {
      "cell_type": "code",
      "metadata": {
        "id": "AsYDnTLD8ph8",
        "colab_type": "code",
        "colab": {}
      },
      "source": [
        "comb_data = pd.concat([train, test])\n",
        "comb_data['input_embed'] = ''\n",
        "comb_data['input_embed'] = comb_data['input_embed'].apply(lambda x: input_question_embedded)"
      ],
      "execution_count": 0,
      "outputs": []
    },
    {
      "cell_type": "markdown",
      "metadata": {
        "id": "CHUXBd678-IO",
        "colab_type": "text"
      },
      "source": [
        "Create the query input for neural net model and zero pad the query question."
      ]
    },
    {
      "cell_type": "code",
      "metadata": {
        "id": "zYxDtvWN86xN",
        "colab_type": "code",
        "colab": {}
      },
      "source": [
        "max_seq_length = max(comb_data['q1_tokenized_embed'].map(lambda x: len(x)).max(), comb_data['q2_tokenized_embed'].map(lambda x: len(x)).max())\n",
        "\n",
        "query = {'left': comb_data['q1_tokenized_embed'], 'right': comb_data['input_embed']}\n",
        "# Zero padding\n",
        "for dataset, side in itertools.product([query], ['left', 'right']):\n",
        "    dataset[side] = pad_sequences(dataset[side], maxlen=max_seq_length)"
      ],
      "execution_count": 0,
      "outputs": []
    },
    {
      "cell_type": "markdown",
      "metadata": {
        "id": "rMCCjGK09Wgv",
        "colab_type": "text"
      },
      "source": [
        "Make prediction and see if a duplicate question exists. In order to make prediction faster, I am only comparing with the first 30 questions."
      ]
    },
    {
      "cell_type": "code",
      "metadata": {
        "id": "ztdaYtd39NzS",
        "colab_type": "code",
        "colab": {}
      },
      "source": [
        "prediction = model.predict([query['left'][0:30], query['right'][0:30]])"
      ],
      "execution_count": 0,
      "outputs": []
    },
    {
      "cell_type": "markdown",
      "metadata": {
        "id": "mpHafKYl9fcW",
        "colab_type": "text"
      },
      "source": [
        "Check if there is a question match."
      ]
    },
    {
      "cell_type": "code",
      "metadata": {
        "id": "wehcwgBD9ckr",
        "colab_type": "code",
        "colab": {}
      },
      "source": [
        "possible_question_matches = []\n",
        "for i in range(0, len(prediction)):\n",
        "  if prediction[i] > 0.8:\n",
        "    possible_question_matches.append(i)"
      ],
      "execution_count": 0,
      "outputs": []
    },
    {
      "cell_type": "markdown",
      "metadata": {
        "id": "gkP9BsIf9pHf",
        "colab_type": "text"
      },
      "source": [
        "Provide the user with the duplicate question or answer suggestion"
      ]
    },
    {
      "cell_type": "code",
      "metadata": {
        "id": "AMYVj6Mn9w1X",
        "colab_type": "code",
        "colab": {}
      },
      "source": [
        "# This funcion will get answer suggestions.\n",
        "def get_answer_suggestion():\n",
        "  answer_dictionary.add_documents([input_question_tokenized])\n",
        "  input_question_doc2bow = answer_dictionary.doc2bow(input_question_tokenized)\n",
        "  answer_corpus.append(input_question_doc2bow)\n",
        "  updated_tfidf = TfidfModel(answer_corpus)\n",
        "  input_question_tfidf = updated_tfidf[input_question_doc2bow]\n",
        "\n",
        "  possible_answers = []\n",
        "  #loop over all answers\n",
        "  for i, answer in enumerate(answers['top_n_keywords']):\n",
        "    count_match_tokens = 0\n",
        "    match_tokens = []\n",
        "    for q_token in input_question_tfidf:\n",
        "      for a_token in answer:\n",
        "        if q_token[0] == a_token[0]:\n",
        "          match_tokens.append(a_token)\n",
        "          count_match_tokens +=1\n",
        "    if count_match_tokens > 0:\n",
        "      possible_answers.append((match_tokens, count_match_tokens, i))\n",
        "          \n",
        "  possible_answers = sorted(possible_answers, key=lambda tup: (len(tup[0]), tup[1]), reverse=True)\n",
        "\n",
        "  return possible_answers"
      ],
      "execution_count": 0,
      "outputs": []
    },
    {
      "cell_type": "markdown",
      "metadata": {
        "id": "29MP8yuWB4hA",
        "colab_type": "text"
      },
      "source": [
        "Display either the duplicate question or suggested answers. In this case only show top 3 answers."
      ]
    },
    {
      "cell_type": "code",
      "metadata": {
        "id": "-lQN4aR79j4u",
        "colab_type": "code",
        "outputId": "b945a1b2-b208-43ce-cc47-0cb6b537ca83",
        "colab": {
          "base_uri": "https://localhost:8080/",
          "height": 34
        }
      },
      "source": [
        "if len(possible_question_matches) > 0:\n",
        "  #This means we found a match\n",
        "  matching_questions = []\n",
        "  for index in possible_question_matches:\n",
        "    print('Duplicate question found:', data_token.loc[comb_data.iloc[index]['id']].question1)\n",
        "else:\n",
        "  #No question match found.\n",
        "  #Go over answers and provide a suggestion\n",
        "  possible_answers = get_answer_suggestion()\n",
        "\n",
        "  counter = 1\n",
        "  for p_ans in possible_answers[0:3]:\n",
        "    print('Answer suggestion', counter, ':', answers.iloc[p_ans[2]]['answers'])\n",
        "    counter+=1"
      ],
      "execution_count": 0,
      "outputs": [
        {
          "output_type": "stream",
          "text": [
            "Duplicate question found: How do I overcome overcome tension?\n"
          ],
          "name": "stdout"
        }
      ]
    }
  ]
}